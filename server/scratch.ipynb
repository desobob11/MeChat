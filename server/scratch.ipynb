{
 "cells": [
  {
   "cell_type": "code",
   "execution_count": 1,
   "metadata": {},
   "outputs": [],
   "source": [
    "import sqlite3\n",
    "import hashlib\n",
    "import random"
   ]
  },
  {
   "cell_type": "code",
   "execution_count": 2,
   "metadata": {},
   "outputs": [],
   "source": [
    "#sqlite connection\n",
    "\n",
    "con = sqlite3.connect(\"mechat.sqlite\")\n",
    "cur = con.cursor()\n",
    "\n"
   ]
  },
  {
   "cell_type": "code",
   "execution_count": 10,
   "metadata": {},
   "outputs": [
    {
     "data": {
      "text/plain": [
       "[(2, 'davidjordan@example.org', 'Ian', 'Conway', 'Student'),\n",
       " (3, 'elizabeth50@example.net', 'Dillon', 'Lee', 'Student'),\n",
       " (4, 'morabrian@example.org', 'Natalie', 'Jackson', 'Student'),\n",
       " (5, 'joshuaalvarez@example.com', 'Samuel', 'Ruiz', 'Student'),\n",
       " (6, 'andrew28@example.com', 'Theresa', 'Frey', 'Student'),\n",
       " (7, 'williammanning@example.com', 'Kelli', 'Smith', 'Student'),\n",
       " (8, 'delgadodouglas@example.net', 'Elizabeth', 'Johnson', 'Student'),\n",
       " (9, 'alison83@example.org', 'Brian', 'Marshall', 'Student'),\n",
       " (10, 'xmeadows@example.org', 'Paul', 'Shaw', 'Student'),\n",
       " (11, 'tinanguyen@example.com', 'Lisa', 'Rose', 'Student'),\n",
       " (12, 'fritzrichard@example.com', 'Jason', 'Li', 'Student'),\n",
       " (13, 'martinezkevin@example.org', 'Kelly', 'Morgan', 'Student'),\n",
       " (14, 'masonlauren@example.com', 'Patrick', 'Donovan', 'Student'),\n",
       " (15, 'estessarah@example.net', 'Michelle', 'Tapia', 'Student'),\n",
       " (16, 'osborntracy@example.com', 'Sandra', 'Roberts', 'Student'),\n",
       " (17, 'martinronnie@example.net', 'Stacey', 'Willis', 'Student'),\n",
       " (18, 'lgarcia@example.net', 'Andrew', 'Stone', 'Student'),\n",
       " (19, 'hatfieldjames@example.com', 'Suzanne', 'Roman', 'Student'),\n",
       " (20, 'cynthia71@example.com', 'Ryan', 'Smith', 'Student'),\n",
       " (21, 'jon43@example.org', 'James', 'Aguirre', 'Student')]"
      ]
     },
     "execution_count": 10,
     "metadata": {},
     "output_type": "execute_result"
    }
   ],
   "source": [
    "query = '''\n",
    "    SELECT\n",
    "    U.userid,\n",
    "    U.email,\n",
    "    U.firstname,\n",
    "    U.lastname,\n",
    "    U.descr\n",
    "\n",
    "    FROM contacts C\n",
    "\n",
    "    INNER JOIN users U\n",
    "    ON U.userid = C.contactid\n",
    "\n",
    "    WHERE C.userid = 1\n",
    "\n",
    "\n",
    "'''\n",
    "\n",
    "res = con.execute(query)\n",
    "res.fetchall()"
   ]
  }
 ],
 "metadata": {
  "kernelspec": {
   "display_name": "Python 3",
   "language": "python",
   "name": "python3"
  },
  "language_info": {
   "codemirror_mode": {
    "name": "ipython",
    "version": 3
   },
   "file_extension": ".py",
   "mimetype": "text/x-python",
   "name": "python",
   "nbconvert_exporter": "python",
   "pygments_lexer": "ipython3",
   "version": "3.13.1"
  }
 },
 "nbformat": 4,
 "nbformat_minor": 2
}
