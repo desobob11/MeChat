{
 "cells": [
  {
   "cell_type": "code",
   "execution_count": 2,
   "metadata": {},
   "outputs": [],
   "source": [
    "import sqlite3\n",
    "import hashlib\n",
    "import random"
   ]
  },
  {
   "cell_type": "code",
   "execution_count": 3,
   "metadata": {},
   "outputs": [],
   "source": [
    "#sqlite connection\n",
    "\n",
    "con = sqlite3.connect(\"mechat.sqlite\")\n",
    "cur = con.cursor()\n",
    "\n"
   ]
  },
  {
   "cell_type": "code",
   "execution_count": null,
   "metadata": {},
   "outputs": [
    {
     "data": {
      "text/plain": [
       "[(1,\n",
       "  2,\n",
       "  'Full word since window minute. Return important new security.',\n",
       "  '7:30pm',\n",
       "  1),\n",
       " (1, 2, 'Go it eye watch group up west.', '7:30pm', 1),\n",
       " (1, 2, 'Hear realize yet over west myself direction.', '7:30pm', 1)]"
      ]
     },
     "execution_count": 4,
     "metadata": {},
     "output_type": "execute_result"
    }
   ],
   "source": [
    "query = '''\n",
    "    SELECT\n",
    "    M.from_userid,\n",
    "    M.to_userid,\n",
    "    M.message,\n",
    "    M.timestamp,\n",
    "    M.acked\n",
    "\n",
    "    FROM messages M\n",
    "\n",
    "\n",
    "    WHERE (M.from_userid = ?\n",
    "    AND M.to_userid =  ?)\n",
    "(M.from_userid = ?\n",
    "    AND M.to_userid =  ?)\n",
    "\n",
    "\n",
    "'''\n",
    "\n",
    "res = con.execute(query)\n",
    "res.fetchall()"
   ]
  }
 ],
 "metadata": {
  "kernelspec": {
   "display_name": "Python 3",
   "language": "python",
   "name": "python3"
  },
  "language_info": {
   "codemirror_mode": {
    "name": "ipython",
    "version": 3
   },
   "file_extension": ".py",
   "mimetype": "text/x-python",
   "name": "python",
   "nbconvert_exporter": "python",
   "pygments_lexer": "ipython3",
   "version": "3.13.1"
  }
 },
 "nbformat": 4,
 "nbformat_minor": 2
}
