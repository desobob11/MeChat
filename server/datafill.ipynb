{
 "cells": [
  {
   "cell_type": "code",
   "execution_count": 1,
   "metadata": {},
   "outputs": [
    {
     "data": {
      "text/plain": [
       "\"\\n    Notebook to populatr SQLite database after initial GO creation\\n\\n    randomized data using faker, also two admin accounts\\n\\n    all password = 'a'\\n\\n\""
      ]
     },
     "execution_count": 1,
     "metadata": {},
     "output_type": "execute_result"
    }
   ],
   "source": [
    "from faker import *\n",
    "import sqlite3\n",
    "import hashlib\n",
    "import random\n",
    "\n",
    "'''\n",
    "    Notebook to populatr SQLite database after initial GO creation\n",
    "\n",
    "    randomized data using faker, also two admin accounts\n",
    "\n",
    "    all password = 'a'\n",
    "\n",
    "'''"
   ]
  },
  {
   "cell_type": "code",
   "execution_count": null,
   "metadata": {},
   "outputs": [],
   "source": [
    "#sqlite connection\n",
    "\n",
    "\n",
    "cons = [sqlite3.connect(\"mechat0.sqlite\")\n",
    "        \n",
    "]\n",
    "curs = [i.cursor() for i in cons]\n",
    "\n"
   ]
  },
  {
   "cell_type": "code",
   "execution_count": 3,
   "metadata": {},
   "outputs": [
    {
     "ename": "OperationalError",
     "evalue": "no such table: users",
     "output_type": "error",
     "traceback": [
      "\u001b[1;31m---------------------------------------------------------------------------\u001b[0m",
      "\u001b[1;31mOperationalError\u001b[0m                          Traceback (most recent call last)",
      "Cell \u001b[1;32mIn[3], line 17\u001b[0m\n\u001b[0;32m      8\u001b[0m data \u001b[38;5;241m=\u001b[39m (\n\u001b[0;32m      9\u001b[0m     password,\n\u001b[0;32m     10\u001b[0m     \u001b[38;5;124m\"\u001b[39m\u001b[38;5;124madmin@admin.ca\u001b[39m\u001b[38;5;124m\"\u001b[39m,\n\u001b[0;32m     11\u001b[0m     \u001b[38;5;124m\"\u001b[39m\u001b[38;5;124madmin\u001b[39m\u001b[38;5;124m\"\u001b[39m,\n\u001b[0;32m     12\u001b[0m     \u001b[38;5;124m\"\u001b[39m\u001b[38;5;124madmin\u001b[39m\u001b[38;5;124m\"\u001b[39m,\n\u001b[0;32m     13\u001b[0m     \u001b[38;5;124m\"\u001b[39m\u001b[38;5;124mStudent\u001b[39m\u001b[38;5;124m\"\u001b[39m)\n\u001b[0;32m     15\u001b[0m \u001b[38;5;28;01mfor\u001b[39;00m cur \u001b[38;5;129;01min\u001b[39;00m curs:\n\u001b[1;32m---> 17\u001b[0m     \u001b[43mcur\u001b[49m\u001b[38;5;241;43m.\u001b[39;49m\u001b[43mexecute\u001b[49m\u001b[43m(\u001b[49m\u001b[38;5;124;43m'''\u001b[39;49m\u001b[38;5;124;43mINSERT INTO users (\u001b[39;49m\n\u001b[0;32m     18\u001b[0m \u001b[38;5;124;43m        [password], \u001b[39;49m\n\u001b[0;32m     19\u001b[0m \u001b[38;5;124;43m        [email], \u001b[39;49m\n\u001b[0;32m     20\u001b[0m \u001b[38;5;124;43m        [firstname], \u001b[39;49m\n\u001b[0;32m     21\u001b[0m \u001b[38;5;124;43m        [lastname], \u001b[39;49m\n\u001b[0;32m     22\u001b[0m \u001b[38;5;124;43m        [descr])\u001b[39;49m\n\u001b[0;32m     23\u001b[0m \u001b[38;5;124;43m                \u001b[39;49m\n\u001b[0;32m     24\u001b[0m \u001b[38;5;124;43m    VALUES (?, ?, ?, ?, ?);\u001b[39;49m\u001b[38;5;124;43m'''\u001b[39;49m\u001b[43m,\u001b[49m\u001b[43m \u001b[49m\u001b[43mdata\u001b[49m\u001b[43m)\u001b[49m\n\u001b[0;32m     26\u001b[0m \u001b[38;5;28;01mfor\u001b[39;00m con \u001b[38;5;129;01min\u001b[39;00m cons:\n\u001b[0;32m     27\u001b[0m     con\u001b[38;5;241m.\u001b[39mcommit()\n",
      "\u001b[1;31mOperationalError\u001b[0m: no such table: users"
     ]
    }
   ],
   "source": [
    "# admin\n",
    "\n",
    "\n",
    "password = hashlib.sha256(\"a\".encode(\"utf-8\")).hexdigest()\n",
    "\n",
    "fake = Faker()\n",
    "\n",
    "data = (\n",
    "    password,\n",
    "    \"admin@admin.ca\",\n",
    "    \"admin\",\n",
    "    \"admin\",\n",
    "    \"Student\")\n",
    "\n",
    "for cur in curs:\n",
    "\n",
    "    cur.execute('''INSERT INTO users (\n",
    "        [password], \n",
    "        [email], \n",
    "        [firstname], \n",
    "        [lastname], \n",
    "        [descr])\n",
    "                \n",
    "    VALUES (?, ?, ?, ?, ?);''', data)\n",
    "\n",
    "for con in cons:\n",
    "    con.commit()\n",
    "\n",
    "\n",
    "\n",
    "data = (\n",
    "    password,\n",
    "    \"admin2@admin2.ca\",\n",
    "    \"admin\",\n",
    "    \"admin\",\n",
    "    \"Student\")\n",
    "\n",
    "for cur in curs:\n",
    "    cur.execute('''INSERT INTO users (\n",
    "        [password], \n",
    "        [email], \n",
    "        [firstname], \n",
    "        [lastname], \n",
    "        [descr])\n",
    "                \n",
    "    VALUES (?, ?, ?, ?, ?);''', data)\n",
    "\n",
    "\n",
    "for con in cons:\n",
    "    con.commit()\n",
    "\n",
    "#res = curs[9].execute(\"SELECT * FROM users;\")\n",
    "#res.fetchall()"
   ]
  },
  {
   "cell_type": "code",
   "execution_count": null,
   "metadata": {},
   "outputs": [],
   "source": [
    "#profiles\n",
    "\n",
    "\n",
    "\n",
    "for i in range(20):\n",
    "    data = (\n",
    "        password,\n",
    "        fake.email(),\n",
    "        fake.first_name(),\n",
    "        fake.last_name(),\n",
    "        \"Student\")\n",
    "    \n",
    "    for cur in curs:\n",
    "        cur.execute('''INSERT INTO users (\n",
    "            [password], \n",
    "            [email], \n",
    "            [firstname], \n",
    "            [lastname], \n",
    "            [descr])\n",
    "        VALUES (?, ?, ?, ?, ?);''', data)\n",
    "    \n",
    "    for con in cons:\n",
    "        con.commit()\n",
    "\n",
    "#res = cur.execute(\"SELECT * FROM users;\")\n",
    "#res.fetchall()\n",
    "\n",
    "\n",
    "\n",
    "    "
   ]
  },
  {
   "cell_type": "code",
   "execution_count": null,
   "metadata": {},
   "outputs": [],
   "source": [
    "# contacts\n",
    "\n",
    "for i in range(1, 22):\n",
    "    for j in range(1, 22):\n",
    "        if i != j:\n",
    "            data = (i, j)\n",
    "            for cur in curs:\n",
    "                cur.execute('''INSERT INTO contacts (\n",
    "            [userid],\n",
    "            [contactid])\n",
    "        VALUES (?, ?);''', data)\n",
    "\n",
    "for con in cons:\n",
    "    con.commit()\n",
    "#res = cur.execute(\"SELECT * FROM contacts;\")\n",
    "#res.fetchall()"
   ]
  },
  {
   "cell_type": "code",
   "execution_count": null,
   "metadata": {},
   "outputs": [],
   "source": [
    "# messages\n",
    "\n",
    "for i in range(10000):\n",
    "        _from = random.randint(1, 21)\n",
    "        _to = random.randint(1, 21)\n",
    "        while _from == _to:\n",
    "                _to = random.randint(1, 21)\n",
    "\n",
    "        text = fake.paragraph(nb_sentences=random.randint(1, 3))\n",
    "        timestamp = \"7:30pm\"\n",
    "        acked = 1\n",
    "\n",
    "        data = (_from, _to, text, timestamp, acked)\n",
    "        for cur in curs:\n",
    "                cur.execute('''INSERT INTO messages (\n",
    "                                        [from_userid], \n",
    "                                                                [to_userid],\n",
    "                                                                [message],\n",
    "                                                                [timestamp],\n",
    "                                                                [acked])\n",
    "                                VALUES (?, ?, ?, ?, ?)''', data)\n",
    "\n",
    "for con in cons:\n",
    "        con.commit()\n",
    "        #res = cur.execute(\"SELECT * FROM messages;\")\n",
    "\n",
    "#res.fetchall()\n"
   ]
  },
  {
   "cell_type": "code",
   "execution_count": null,
   "metadata": {},
   "outputs": [],
   "source": [
    "#res = cur.execute(\"SELECT * FROM messages  ORDER BY rec_id DESC;\")\n",
    "\n",
    "#res.fetchall()\n",
    "\n",
    "\n",
    "#con.close()"
   ]
  }
 ],
 "metadata": {
  "kernelspec": {
   "display_name": "Python 3",
   "language": "python",
   "name": "python3"
  },
  "language_info": {
   "codemirror_mode": {
    "name": "ipython",
    "version": 3
   },
   "file_extension": ".py",
   "mimetype": "text/x-python",
   "name": "python",
   "nbconvert_exporter": "python",
   "pygments_lexer": "ipython3",
   "version": "3.13.1"
  }
 },
 "nbformat": 4,
 "nbformat_minor": 2
}
